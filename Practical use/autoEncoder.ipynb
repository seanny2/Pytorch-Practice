{
 "cells": [
  {
   "attachments": {},
   "cell_type": "markdown",
   "metadata": {},
   "source": [
    "## 오토인코더를 이용한 이미지 잡음제거\n",
    "- U-Net과 비슷하게 정보를 압축하는 인코더\n",
    "- 압축된 정보를 복원하는 디코더\n",
    "- 이미지 잡음제거, 인페인팅, 이미지 생성(GAN), 기계 번역\n",
    "\n",
    "- 가우스 노이즈: 정규 분포를 따르는 노이즈`"
   ]
  },
  {
   "cell_type": "code",
   "execution_count": 1,
   "metadata": {},
   "outputs": [
    {
     "name": "stderr",
     "output_type": "stream",
     "text": [
      "c:\\Users\\seung\\anaconda3\\envs\\DL\\lib\\site-packages\\tqdm\\auto.py:22: TqdmWarning: IProgress not found. Please update jupyter and ipywidgets. See https://ipywidgets.readthedocs.io/en/stable/user_install.html\n",
      "  from .autonotebook import tqdm as notebook_tqdm\n"
     ]
    }
   ],
   "source": [
    "import torch\n",
    "import torch.nn as nn\n",
    "import tqdm\n",
    "import matplotlib.pyplot as plt\n",
    "\n",
    "from torch.utils.data.dataloader import DataLoader\n",
    "from torch.optim.adam import Adam\n",
    "from torchvision.datasets.mnist import MNIST\n",
    "from torchvision.transforms import ToTensor\n",
    "\n",
    "from model.autoEncoder import CAE"
   ]
  },
  {
   "attachments": {},
   "cell_type": "markdown",
   "metadata": {},
   "source": [
    "#### utils"
   ]
  },
  {
   "cell_type": "code",
   "execution_count": 2,
   "metadata": {},
   "outputs": [],
   "source": [
    "import torch\n",
    "import numpy as np\n",
    "from torchvision.datasets.mnist import MNIST\n",
    "from torchvision.transforms import ToTensor\n",
    "\n",
    "# scale: 잡음 크기를 조절\n",
    "def gaussian_noise(x, scale=0.1):\n",
    "  gaussian_data_x = x + np.random.normal(loc=0, scale=scale, size=x.shape)\n",
    "  gaussian_data_x = np.clip(gaussian_data_x, 0, 1)\n",
    "  gaussian_data_x = torch.tensor(gaussian_data_x)\n",
    "  gaussian_data_x = gaussian_data_x.type(torch.FloatTensor)\n",
    "  return gaussian_data_x\n",
    "\n",
    "from torch.utils.data.dataset import Dataset\n",
    "\n",
    "class Denoising(Dataset):\n",
    "  def __init__(self):\n",
    "    self.mnist = MNIST(root=\"./data\", train=True, download=True, transform=ToTensor())\n",
    "    self.data = []\n",
    "\n",
    "    for i in range(len(self.mnist)):\n",
    "      noisy_input = gaussian_noise(self.mnist.data[i])\n",
    "      input_tensor = torch.tensor(noisy_input)\n",
    "      self.data.append(torch.unsqueeze(input_tensor, dim=0))\n",
    "  \n",
    "  def __len__(self):\n",
    "    return len(self.data)\n",
    "  def __getitem__(self, i):\n",
    "    data = self.data[i]\n",
    "    label = self.mnist.data[i]/255\n",
    "    return data, label"
   ]
  },
  {
   "attachments": {},
   "cell_type": "markdown",
   "metadata": {},
   "source": [
    "#### 학습"
   ]
  },
  {
   "cell_type": "code",
   "execution_count": 3,
   "metadata": {},
   "outputs": [
    {
     "name": "stderr",
     "output_type": "stream",
     "text": [
      "C:\\Users\\seung\\AppData\\Local\\Temp\\ipykernel_43380\\3784319825.py:10: UserWarning: To copy construct from a tensor, it is recommended to use sourceTensor.clone().detach() or sourceTensor.clone().detach().requires_grad_(True), rather than torch.tensor(sourceTensor).\n",
      "  gaussian_data_x = torch.tensor(gaussian_data_x)\n",
      "C:\\Users\\seung\\AppData\\Local\\Temp\\ipykernel_43380\\3784319825.py:23: UserWarning: To copy construct from a tensor, it is recommended to use sourceTensor.clone().detach() or sourceTensor.clone().detach().requires_grad_(True), rather than torch.tensor(sourceTensor).\n",
      "  input_tensor = torch.tensor(noisy_input)\n",
      "100%|██████████| 1875/1875 [01:23<00:00, 22.58it/s]\n"
     ]
    }
   ],
   "source": [
    "training_data = MNIST(root=\"./data\", train=True, download=True, transform=ToTensor())\n",
    "test_data = MNIST(root=\"./data\", train=False, download=True, transform=ToTensor())\n",
    "\n",
    "device = \"cuda\" if torch.cuda.is_available() else \"cpu\"\n",
    "trainset = Denoising()\n",
    "train_loader = DataLoader(trainset, batch_size=32)\n",
    "model = CAE().to(device)\n",
    "\n",
    "lr = 0.01\n",
    "optim = Adam(params=model.parameters(), lr=lr)\n",
    "\n",
    "for epoch in range(1):\n",
    "  iterator = tqdm.tqdm(train_loader)\n",
    "\n",
    "  for data, label in iterator:\n",
    "    optim.zero_grad()\n",
    "    pred = model(data.to(device))\n",
    "\n",
    "    loss = nn.MSELoss()(torch.squeeze(pred), label.to(device))\n",
    "    loss.backward()\n",
    "    optim.step()\n",
    "    iterator.set_description(f\"epoch{epoch+1} loss:{loss.item()}\")\n",
    "\n",
    "torch.save(model.state_dict(), \"CAE.pth\")"
   ]
  },
  {
   "attachments": {},
   "cell_type": "markdown",
   "metadata": {},
   "source": [
    "#### 평가"
   ]
  },
  {
   "cell_type": "code",
   "execution_count": 5,
   "metadata": {},
   "outputs": [
    {
     "name": "stderr",
     "output_type": "stream",
     "text": [
      "C:\\Users\\seung\\AppData\\Local\\Temp\\ipykernel_43380\\3784319825.py:10: UserWarning: To copy construct from a tensor, it is recommended to use sourceTensor.clone().detach() or sourceTensor.clone().detach().requires_grad_(True), rather than torch.tensor(sourceTensor).\n",
      "  gaussian_data_x = torch.tensor(gaussian_data_x)\n"
     ]
    },
    {
     "data": {
      "image/png": "[encoded data removed]",
      "text/plain": [
       "<Figure size 640x480 with 3 Axes>"
      ]
     },
     "metadata": {},
     "output_type": "display_data"
    }
   ],
   "source": [
    "model.cpu()\n",
    "\n",
    "with torch.no_grad():\n",
    "  model.load_state_dict(torch.load(\"CAE.pth\", map_location=device))\n",
    "\n",
    "  img = test_data.data[11]\n",
    "  gaussian = gaussian_noise(img, scale=100)\n",
    "  input = torch.unsqueeze(gaussian, dim=0)\n",
    "  input.type(torch.FloatTensor)\n",
    "  input.to(device)\n",
    "  input = torch.unsqueeze(input, dim=0)\n",
    "\n",
    "  plt.subplot(1, 3, 1)\n",
    "  plt.imshow(torch.squeeze(gaussian))\n",
    "  plt.subplot(1, 3, 2)\n",
    "  plt.imshow(torch.squeeze(model(input)))\n",
    "  plt.subplot(1, 3, 3)\n",
    "  plt.imshow(torch.squeeze(img))\n",
    "  plt.show()"
   ]
  }
 ],
 "metadata": {
  "kernelspec": {
   "display_name": "Python 3.10.4 ('DL')",
   "language": "python",
   "name": "python3"
  },
  "language_info": {
   "codemirror_mode": {
    "name": "ipython",
    "version": 3
   },
   "file_extension": ".py",
   "mimetype": "text/x-python",
   "name": "python",
   "nbconvert_exporter": "python",
   "pygments_lexer": "ipython3",
   "version": "3.10.4 | packaged by conda-forge | (main, Mar 30 2022, 08:38:02) [MSC v.1916 64 bit (AMD64)]"
  },
  "orig_nbformat": 4,
  "vscode": {
   "interpreter": {
    "hash": "4be86c8dc50e04ba973d8ce46680464486089f3e39fa7122143c61b5c28756ff"
   }
  }
 },
 "nbformat": 4,
 "nbformat_minor": 2
}
